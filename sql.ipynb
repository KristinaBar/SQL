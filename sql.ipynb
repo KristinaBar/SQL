{
 "cells": [
  {
   "cell_type": "markdown",
   "metadata": {},
   "source": [
    "                        Анализ сервиса для чтения книг по подписке\n",
    "\n",
    "**Цель:** определить наиболее популярные издательства и авторов для выпуска нового издания"
   ]
  },
  {
   "cell_type": "markdown",
   "metadata": {},
   "source": [
    "##### Загрузка данных"
   ]
  },
  {
   "cell_type": "code",
   "execution_count": 1,
   "metadata": {},
   "outputs": [
    {
     "data": {
      "text/html": [
       "<div>\n",
       "<style scoped>\n",
       "    .dataframe tbody tr th:only-of-type {\n",
       "        vertical-align: middle;\n",
       "    }\n",
       "\n",
       "    .dataframe tbody tr th {\n",
       "        vertical-align: top;\n",
       "    }\n",
       "\n",
       "    .dataframe thead th {\n",
       "        text-align: right;\n",
       "    }\n",
       "</style>\n",
       "<table border=\"1\" class=\"dataframe\">\n",
       "  <thead>\n",
       "    <tr style=\"text-align: right;\">\n",
       "      <th></th>\n",
       "      <th>book_id</th>\n",
       "      <th>author_id</th>\n",
       "      <th>title</th>\n",
       "      <th>num_pages</th>\n",
       "      <th>publication_date</th>\n",
       "      <th>publisher_id</th>\n",
       "    </tr>\n",
       "  </thead>\n",
       "  <tbody>\n",
       "    <tr>\n",
       "      <th>0</th>\n",
       "      <td>1</td>\n",
       "      <td>546</td>\n",
       "      <td>'Salem's Lot</td>\n",
       "      <td>594</td>\n",
       "      <td>2005-11-01</td>\n",
       "      <td>93</td>\n",
       "    </tr>\n",
       "    <tr>\n",
       "      <th>1</th>\n",
       "      <td>2</td>\n",
       "      <td>465</td>\n",
       "      <td>1 000 Places to See Before You Die</td>\n",
       "      <td>992</td>\n",
       "      <td>2003-05-22</td>\n",
       "      <td>336</td>\n",
       "    </tr>\n",
       "    <tr>\n",
       "      <th>2</th>\n",
       "      <td>3</td>\n",
       "      <td>407</td>\n",
       "      <td>13 Little Blue Envelopes (Little Blue Envelope...</td>\n",
       "      <td>322</td>\n",
       "      <td>2010-12-21</td>\n",
       "      <td>135</td>\n",
       "    </tr>\n",
       "    <tr>\n",
       "      <th>3</th>\n",
       "      <td>4</td>\n",
       "      <td>82</td>\n",
       "      <td>1491: New Revelations of the Americas Before C...</td>\n",
       "      <td>541</td>\n",
       "      <td>2006-10-10</td>\n",
       "      <td>309</td>\n",
       "    </tr>\n",
       "    <tr>\n",
       "      <th>4</th>\n",
       "      <td>5</td>\n",
       "      <td>125</td>\n",
       "      <td>1776</td>\n",
       "      <td>386</td>\n",
       "      <td>2006-07-04</td>\n",
       "      <td>268</td>\n",
       "    </tr>\n",
       "  </tbody>\n",
       "</table>\n",
       "</div>"
      ],
      "text/plain": [
       "   book_id  author_id                                              title  \\\n",
       "0        1        546                                       'Salem's Lot   \n",
       "1        2        465                 1 000 Places to See Before You Die   \n",
       "2        3        407  13 Little Blue Envelopes (Little Blue Envelope...   \n",
       "3        4         82  1491: New Revelations of the Americas Before C...   \n",
       "4        5        125                                               1776   \n",
       "\n",
       "   num_pages publication_date  publisher_id  \n",
       "0        594       2005-11-01            93  \n",
       "1        992       2003-05-22           336  \n",
       "2        322       2010-12-21           135  \n",
       "3        541       2006-10-10           309  \n",
       "4        386       2006-07-04           268  "
      ]
     },
     "execution_count": 1,
     "metadata": {},
     "output_type": "execute_result"
    }
   ],
   "source": [
    "# импортируем библиотеки\n",
    "import pandas as pd\n",
    "from sqlalchemy import text, create_engine\n",
    "# устанавливаем параметры\n",
    "db_config = {'user': 'praktikum_student', # имя пользователя\n",
    "'pwd': 'Sdf4$2;d-d30pp', # пароль\n",
    "'host': 'rc1b-wcoijxj3yxfsf3fs.mdb.yandexcloud.net',\n",
    "'port': 6432, # порт подключения\n",
    "'db': 'data-analyst-final-project-db'} # название базы данных\n",
    "connection_string = 'postgresql://{user}:{pwd}@{host}:{port}/{db}'.format(**db_config)\n",
    "# сохраняем коннектор\n",
    "engine = create_engine(connection_string, connect_args={'sslmode':'require'})\n",
    "# чтобы выполнить SQL-запрос, используем Pandas\n",
    "query = '''SELECT * FROM books LIMIT 5'''\n",
    "\n",
    "con=engine.connect()\n",
    "pd.io.sql.read_sql(sql=text(query), con = con)\n"
   ]
  },
  {
   "cell_type": "code",
   "execution_count": 2,
   "metadata": {},
   "outputs": [
    {
     "data": {
      "text/html": [
       "<div>\n",
       "<style scoped>\n",
       "    .dataframe tbody tr th:only-of-type {\n",
       "        vertical-align: middle;\n",
       "    }\n",
       "\n",
       "    .dataframe tbody tr th {\n",
       "        vertical-align: top;\n",
       "    }\n",
       "\n",
       "    .dataframe thead th {\n",
       "        text-align: right;\n",
       "    }\n",
       "</style>\n",
       "<table border=\"1\" class=\"dataframe\">\n",
       "  <thead>\n",
       "    <tr style=\"text-align: right;\">\n",
       "      <th></th>\n",
       "      <th>author_id</th>\n",
       "      <th>author</th>\n",
       "    </tr>\n",
       "  </thead>\n",
       "  <tbody>\n",
       "    <tr>\n",
       "      <th>0</th>\n",
       "      <td>1</td>\n",
       "      <td>A.S. Byatt</td>\n",
       "    </tr>\n",
       "    <tr>\n",
       "      <th>1</th>\n",
       "      <td>2</td>\n",
       "      <td>Aesop/Laura Harris/Laura Gibbs</td>\n",
       "    </tr>\n",
       "    <tr>\n",
       "      <th>2</th>\n",
       "      <td>3</td>\n",
       "      <td>Agatha Christie</td>\n",
       "    </tr>\n",
       "    <tr>\n",
       "      <th>3</th>\n",
       "      <td>4</td>\n",
       "      <td>Alan Brennert</td>\n",
       "    </tr>\n",
       "    <tr>\n",
       "      <th>4</th>\n",
       "      <td>5</td>\n",
       "      <td>Alan Moore/David   Lloyd</td>\n",
       "    </tr>\n",
       "  </tbody>\n",
       "</table>\n",
       "</div>"
      ],
      "text/plain": [
       "   author_id                          author\n",
       "0          1                      A.S. Byatt\n",
       "1          2  Aesop/Laura Harris/Laura Gibbs\n",
       "2          3                 Agatha Christie\n",
       "3          4                   Alan Brennert\n",
       "4          5        Alan Moore/David   Lloyd"
      ]
     },
     "execution_count": 2,
     "metadata": {},
     "output_type": "execute_result"
    }
   ],
   "source": [
    "query = '''SELECT * FROM authors LIMIT 5'''\n",
    "con=engine.connect()\n",
    "pd.io.sql.read_sql(sql=text(query), con = con)"
   ]
  },
  {
   "cell_type": "code",
   "execution_count": 3,
   "metadata": {},
   "outputs": [
    {
     "data": {
      "text/html": [
       "<div>\n",
       "<style scoped>\n",
       "    .dataframe tbody tr th:only-of-type {\n",
       "        vertical-align: middle;\n",
       "    }\n",
       "\n",
       "    .dataframe tbody tr th {\n",
       "        vertical-align: top;\n",
       "    }\n",
       "\n",
       "    .dataframe thead th {\n",
       "        text-align: right;\n",
       "    }\n",
       "</style>\n",
       "<table border=\"1\" class=\"dataframe\">\n",
       "  <thead>\n",
       "    <tr style=\"text-align: right;\">\n",
       "      <th></th>\n",
       "      <th>publisher_id</th>\n",
       "      <th>publisher</th>\n",
       "    </tr>\n",
       "  </thead>\n",
       "  <tbody>\n",
       "    <tr>\n",
       "      <th>0</th>\n",
       "      <td>1</td>\n",
       "      <td>Ace</td>\n",
       "    </tr>\n",
       "    <tr>\n",
       "      <th>1</th>\n",
       "      <td>2</td>\n",
       "      <td>Ace Book</td>\n",
       "    </tr>\n",
       "    <tr>\n",
       "      <th>2</th>\n",
       "      <td>3</td>\n",
       "      <td>Ace Books</td>\n",
       "    </tr>\n",
       "    <tr>\n",
       "      <th>3</th>\n",
       "      <td>4</td>\n",
       "      <td>Ace Hardcover</td>\n",
       "    </tr>\n",
       "    <tr>\n",
       "      <th>4</th>\n",
       "      <td>5</td>\n",
       "      <td>Addison Wesley Publishing Company</td>\n",
       "    </tr>\n",
       "  </tbody>\n",
       "</table>\n",
       "</div>"
      ],
      "text/plain": [
       "   publisher_id                          publisher\n",
       "0             1                                Ace\n",
       "1             2                           Ace Book\n",
       "2             3                          Ace Books\n",
       "3             4                      Ace Hardcover\n",
       "4             5  Addison Wesley Publishing Company"
      ]
     },
     "execution_count": 3,
     "metadata": {},
     "output_type": "execute_result"
    }
   ],
   "source": [
    "query = '''SELECT * FROM publishers LIMIT 5'''\n",
    "con=engine.connect()\n",
    "pd.io.sql.read_sql(sql=text(query), con = con)"
   ]
  },
  {
   "cell_type": "code",
   "execution_count": 4,
   "metadata": {},
   "outputs": [
    {
     "data": {
      "text/html": [
       "<div>\n",
       "<style scoped>\n",
       "    .dataframe tbody tr th:only-of-type {\n",
       "        vertical-align: middle;\n",
       "    }\n",
       "\n",
       "    .dataframe tbody tr th {\n",
       "        vertical-align: top;\n",
       "    }\n",
       "\n",
       "    .dataframe thead th {\n",
       "        text-align: right;\n",
       "    }\n",
       "</style>\n",
       "<table border=\"1\" class=\"dataframe\">\n",
       "  <thead>\n",
       "    <tr style=\"text-align: right;\">\n",
       "      <th></th>\n",
       "      <th>rating_id</th>\n",
       "      <th>book_id</th>\n",
       "      <th>username</th>\n",
       "      <th>rating</th>\n",
       "    </tr>\n",
       "  </thead>\n",
       "  <tbody>\n",
       "    <tr>\n",
       "      <th>0</th>\n",
       "      <td>1</td>\n",
       "      <td>1</td>\n",
       "      <td>ryanfranco</td>\n",
       "      <td>4</td>\n",
       "    </tr>\n",
       "    <tr>\n",
       "      <th>1</th>\n",
       "      <td>2</td>\n",
       "      <td>1</td>\n",
       "      <td>grantpatricia</td>\n",
       "      <td>2</td>\n",
       "    </tr>\n",
       "    <tr>\n",
       "      <th>2</th>\n",
       "      <td>3</td>\n",
       "      <td>1</td>\n",
       "      <td>brandtandrea</td>\n",
       "      <td>5</td>\n",
       "    </tr>\n",
       "    <tr>\n",
       "      <th>3</th>\n",
       "      <td>4</td>\n",
       "      <td>2</td>\n",
       "      <td>lorichen</td>\n",
       "      <td>3</td>\n",
       "    </tr>\n",
       "    <tr>\n",
       "      <th>4</th>\n",
       "      <td>5</td>\n",
       "      <td>2</td>\n",
       "      <td>mariokeller</td>\n",
       "      <td>2</td>\n",
       "    </tr>\n",
       "  </tbody>\n",
       "</table>\n",
       "</div>"
      ],
      "text/plain": [
       "   rating_id  book_id       username  rating\n",
       "0          1        1     ryanfranco       4\n",
       "1          2        1  grantpatricia       2\n",
       "2          3        1   brandtandrea       5\n",
       "3          4        2       lorichen       3\n",
       "4          5        2    mariokeller       2"
      ]
     },
     "execution_count": 4,
     "metadata": {},
     "output_type": "execute_result"
    }
   ],
   "source": [
    "query = '''SELECT * FROM ratings LIMIT 5'''\n",
    "con=engine.connect()\n",
    "pd.io.sql.read_sql(sql=text(query), con = con)"
   ]
  },
  {
   "cell_type": "code",
   "execution_count": 5,
   "metadata": {},
   "outputs": [
    {
     "data": {
      "text/html": [
       "<div>\n",
       "<style scoped>\n",
       "    .dataframe tbody tr th:only-of-type {\n",
       "        vertical-align: middle;\n",
       "    }\n",
       "\n",
       "    .dataframe tbody tr th {\n",
       "        vertical-align: top;\n",
       "    }\n",
       "\n",
       "    .dataframe thead th {\n",
       "        text-align: right;\n",
       "    }\n",
       "</style>\n",
       "<table border=\"1\" class=\"dataframe\">\n",
       "  <thead>\n",
       "    <tr style=\"text-align: right;\">\n",
       "      <th></th>\n",
       "      <th>review_id</th>\n",
       "      <th>book_id</th>\n",
       "      <th>username</th>\n",
       "      <th>text</th>\n",
       "    </tr>\n",
       "  </thead>\n",
       "  <tbody>\n",
       "    <tr>\n",
       "      <th>0</th>\n",
       "      <td>1</td>\n",
       "      <td>1</td>\n",
       "      <td>brandtandrea</td>\n",
       "      <td>Mention society tell send professor analysis. ...</td>\n",
       "    </tr>\n",
       "    <tr>\n",
       "      <th>1</th>\n",
       "      <td>2</td>\n",
       "      <td>1</td>\n",
       "      <td>ryanfranco</td>\n",
       "      <td>Foot glass pretty audience hit themselves. Amo...</td>\n",
       "    </tr>\n",
       "    <tr>\n",
       "      <th>2</th>\n",
       "      <td>3</td>\n",
       "      <td>2</td>\n",
       "      <td>lorichen</td>\n",
       "      <td>Listen treat keep worry. Miss husband tax but ...</td>\n",
       "    </tr>\n",
       "    <tr>\n",
       "      <th>3</th>\n",
       "      <td>4</td>\n",
       "      <td>3</td>\n",
       "      <td>johnsonamanda</td>\n",
       "      <td>Finally month interesting blue could nature cu...</td>\n",
       "    </tr>\n",
       "    <tr>\n",
       "      <th>4</th>\n",
       "      <td>5</td>\n",
       "      <td>3</td>\n",
       "      <td>scotttamara</td>\n",
       "      <td>Nation purpose heavy give wait song will. List...</td>\n",
       "    </tr>\n",
       "  </tbody>\n",
       "</table>\n",
       "</div>"
      ],
      "text/plain": [
       "   review_id  book_id       username  \\\n",
       "0          1        1   brandtandrea   \n",
       "1          2        1     ryanfranco   \n",
       "2          3        2       lorichen   \n",
       "3          4        3  johnsonamanda   \n",
       "4          5        3    scotttamara   \n",
       "\n",
       "                                                text  \n",
       "0  Mention society tell send professor analysis. ...  \n",
       "1  Foot glass pretty audience hit themselves. Amo...  \n",
       "2  Listen treat keep worry. Miss husband tax but ...  \n",
       "3  Finally month interesting blue could nature cu...  \n",
       "4  Nation purpose heavy give wait song will. List...  "
      ]
     },
     "execution_count": 5,
     "metadata": {},
     "output_type": "execute_result"
    }
   ],
   "source": [
    "query = '''SELECT * FROM reviews LIMIT 5'''\n",
    "con=engine.connect()\n",
    "pd.io.sql.read_sql(sql=text(query), con = con)"
   ]
  },
  {
   "cell_type": "markdown",
   "metadata": {},
   "source": [
    "##### Книги, выпущенные после 01.01.2000"
   ]
  },
  {
   "cell_type": "code",
   "execution_count": 6,
   "metadata": {},
   "outputs": [
    {
     "data": {
      "text/html": [
       "<div>\n",
       "<style scoped>\n",
       "    .dataframe tbody tr th:only-of-type {\n",
       "        vertical-align: middle;\n",
       "    }\n",
       "\n",
       "    .dataframe tbody tr th {\n",
       "        vertical-align: top;\n",
       "    }\n",
       "\n",
       "    .dataframe thead th {\n",
       "        text-align: right;\n",
       "    }\n",
       "</style>\n",
       "<table border=\"1\" class=\"dataframe\">\n",
       "  <thead>\n",
       "    <tr style=\"text-align: right;\">\n",
       "      <th></th>\n",
       "      <th>count</th>\n",
       "    </tr>\n",
       "  </thead>\n",
       "  <tbody>\n",
       "    <tr>\n",
       "      <th>0</th>\n",
       "      <td>819</td>\n",
       "    </tr>\n",
       "  </tbody>\n",
       "</table>\n",
       "</div>"
      ],
      "text/plain": [
       "   count\n",
       "0    819"
      ]
     },
     "execution_count": 6,
     "metadata": {},
     "output_type": "execute_result"
    }
   ],
   "source": [
    "query = '''SELECT count(book_id)\n",
    "FROM books \n",
    "where publication_date > '2000-01-01'\n",
    "\n",
    "\n",
    "'''\n",
    "con=engine.connect()\n",
    "pd.io.sql.read_sql(sql=text(query), con = con)\n"
   ]
  },
  {
   "cell_type": "markdown",
   "metadata": {},
   "source": [
    "После 1 января 2000 года было выпущено в общей сумме 819 книг"
   ]
  },
  {
   "cell_type": "markdown",
   "metadata": {},
   "source": [
    "##### Обзоры и средняя оценка"
   ]
  },
  {
   "cell_type": "code",
   "execution_count": 7,
   "metadata": {},
   "outputs": [
    {
     "data": {
      "text/html": [
       "<div>\n",
       "<style scoped>\n",
       "    .dataframe tbody tr th:only-of-type {\n",
       "        vertical-align: middle;\n",
       "    }\n",
       "\n",
       "    .dataframe tbody tr th {\n",
       "        vertical-align: top;\n",
       "    }\n",
       "\n",
       "    .dataframe thead th {\n",
       "        text-align: right;\n",
       "    }\n",
       "</style>\n",
       "<table border=\"1\" class=\"dataframe\">\n",
       "  <thead>\n",
       "    <tr style=\"text-align: right;\">\n",
       "      <th></th>\n",
       "      <th>title</th>\n",
       "      <th>count_reviews</th>\n",
       "      <th>avg_rating</th>\n",
       "    </tr>\n",
       "  </thead>\n",
       "  <tbody>\n",
       "    <tr>\n",
       "      <th>0</th>\n",
       "      <td>The Cat in the Hat and Other Dr. Seuss Favorites</td>\n",
       "      <td>NaN</td>\n",
       "      <td>5.00</td>\n",
       "    </tr>\n",
       "    <tr>\n",
       "      <th>1</th>\n",
       "      <td>A Dirty Job (Grim Reaper  #1)</td>\n",
       "      <td>4.0</td>\n",
       "      <td>5.00</td>\n",
       "    </tr>\n",
       "    <tr>\n",
       "      <th>2</th>\n",
       "      <td>School's Out—Forever (Maximum Ride  #2)</td>\n",
       "      <td>3.0</td>\n",
       "      <td>5.00</td>\n",
       "    </tr>\n",
       "    <tr>\n",
       "      <th>3</th>\n",
       "      <td>Moneyball: The Art of Winning an Unfair Game</td>\n",
       "      <td>3.0</td>\n",
       "      <td>5.00</td>\n",
       "    </tr>\n",
       "    <tr>\n",
       "      <th>4</th>\n",
       "      <td>The Woman in Black</td>\n",
       "      <td>2.0</td>\n",
       "      <td>5.00</td>\n",
       "    </tr>\n",
       "    <tr>\n",
       "      <th>...</th>\n",
       "      <td>...</td>\n",
       "      <td>...</td>\n",
       "      <td>...</td>\n",
       "    </tr>\n",
       "    <tr>\n",
       "      <th>995</th>\n",
       "      <td>The World Is Flat: A Brief History of the Twen...</td>\n",
       "      <td>3.0</td>\n",
       "      <td>2.25</td>\n",
       "    </tr>\n",
       "    <tr>\n",
       "      <th>996</th>\n",
       "      <td>Drowning Ruth</td>\n",
       "      <td>3.0</td>\n",
       "      <td>2.00</td>\n",
       "    </tr>\n",
       "    <tr>\n",
       "      <th>997</th>\n",
       "      <td>Junky</td>\n",
       "      <td>2.0</td>\n",
       "      <td>2.00</td>\n",
       "    </tr>\n",
       "    <tr>\n",
       "      <th>998</th>\n",
       "      <td>His Excellency: George Washington</td>\n",
       "      <td>2.0</td>\n",
       "      <td>2.00</td>\n",
       "    </tr>\n",
       "    <tr>\n",
       "      <th>999</th>\n",
       "      <td>Harvesting the Heart</td>\n",
       "      <td>2.0</td>\n",
       "      <td>1.50</td>\n",
       "    </tr>\n",
       "  </tbody>\n",
       "</table>\n",
       "<p>1000 rows × 3 columns</p>\n",
       "</div>"
      ],
      "text/plain": [
       "                                                 title  count_reviews  \\\n",
       "0     The Cat in the Hat and Other Dr. Seuss Favorites            NaN   \n",
       "1                        A Dirty Job (Grim Reaper  #1)            4.0   \n",
       "2              School's Out—Forever (Maximum Ride  #2)            3.0   \n",
       "3         Moneyball: The Art of Winning an Unfair Game            3.0   \n",
       "4                                   The Woman in Black            2.0   \n",
       "..                                                 ...            ...   \n",
       "995  The World Is Flat: A Brief History of the Twen...            3.0   \n",
       "996                                      Drowning Ruth            3.0   \n",
       "997                                              Junky            2.0   \n",
       "998                  His Excellency: George Washington            2.0   \n",
       "999                               Harvesting the Heart            2.0   \n",
       "\n",
       "     avg_rating  \n",
       "0          5.00  \n",
       "1          5.00  \n",
       "2          5.00  \n",
       "3          5.00  \n",
       "4          5.00  \n",
       "..          ...  \n",
       "995        2.25  \n",
       "996        2.00  \n",
       "997        2.00  \n",
       "998        2.00  \n",
       "999        1.50  \n",
       "\n",
       "[1000 rows x 3 columns]"
      ]
     },
     "execution_count": 7,
     "metadata": {},
     "output_type": "execute_result"
    }
   ],
   "source": [
    "query = '''\n",
    "\n",
    "with\n",
    "a as (SELECT book_id, count(text) as count_reviews\n",
    "FROM reviews\n",
    "GROUP BY book_id),\n",
    "\n",
    "a1 as (SELECT book_id,\n",
    "                               ROUND(AVG(rating),2) as avg_rating\n",
    "                        FROM ratings\n",
    "                        GROUP BY book_id)\n",
    "                        \n",
    "SELECT b.title,\n",
    "       a.count_reviews, a1.avg_rating\n",
    "           FROM books as b\n",
    "           LEFT JOIN a as a ON b.book_id = a.book_id\n",
    "           LEFT JOIN a1 as a1 ON b.book_id = a1.book_id\n",
    "\n",
    "order by avg_rating desc, count_reviews desc\n",
    "'''\n",
    "con=engine.connect()\n",
    "pd.io.sql.read_sql(sql=text(query), con = con)"
   ]
  },
  {
   "cell_type": "code",
   "execution_count": 8,
   "metadata": {},
   "outputs": [
    {
     "data": {
      "text/html": [
       "<div>\n",
       "<style scoped>\n",
       "    .dataframe tbody tr th:only-of-type {\n",
       "        vertical-align: middle;\n",
       "    }\n",
       "\n",
       "    .dataframe tbody tr th {\n",
       "        vertical-align: top;\n",
       "    }\n",
       "\n",
       "    .dataframe thead th {\n",
       "        text-align: right;\n",
       "    }\n",
       "</style>\n",
       "<table border=\"1\" class=\"dataframe\">\n",
       "  <thead>\n",
       "    <tr style=\"text-align: right;\">\n",
       "      <th></th>\n",
       "      <th>count</th>\n",
       "    </tr>\n",
       "  </thead>\n",
       "  <tbody>\n",
       "    <tr>\n",
       "      <th>0</th>\n",
       "      <td>2793</td>\n",
       "    </tr>\n",
       "  </tbody>\n",
       "</table>\n",
       "</div>"
      ],
      "text/plain": [
       "   count\n",
       "0   2793"
      ]
     },
     "execution_count": 8,
     "metadata": {},
     "output_type": "execute_result"
    }
   ],
   "source": [
    "#кол-во обзоров в изначальной таблице\n",
    "query = '''\n",
    "\n",
    "select count(text)\n",
    "from reviews\n",
    "\n",
    "'''\n",
    "con=engine.connect()\n",
    "pd.io.sql.read_sql(sql=text(query), con = con)"
   ]
  },
  {
   "cell_type": "code",
   "execution_count": 9,
   "metadata": {},
   "outputs": [
    {
     "data": {
      "text/html": [
       "<div>\n",
       "<style scoped>\n",
       "    .dataframe tbody tr th:only-of-type {\n",
       "        vertical-align: middle;\n",
       "    }\n",
       "\n",
       "    .dataframe tbody tr th {\n",
       "        vertical-align: top;\n",
       "    }\n",
       "\n",
       "    .dataframe thead th {\n",
       "        text-align: right;\n",
       "    }\n",
       "</style>\n",
       "<table border=\"1\" class=\"dataframe\">\n",
       "  <thead>\n",
       "    <tr style=\"text-align: right;\">\n",
       "      <th></th>\n",
       "      <th>sum</th>\n",
       "    </tr>\n",
       "  </thead>\n",
       "  <tbody>\n",
       "    <tr>\n",
       "      <th>0</th>\n",
       "      <td>2793.0</td>\n",
       "    </tr>\n",
       "  </tbody>\n",
       "</table>\n",
       "</div>"
      ],
      "text/plain": [
       "      sum\n",
       "0  2793.0"
      ]
     },
     "execution_count": 9,
     "metadata": {},
     "output_type": "execute_result"
    }
   ],
   "source": [
    "query = '''\n",
    "\n",
    "with a as (with\n",
    "a as (SELECT book_id, count(text) as count_reviews\n",
    "FROM reviews\n",
    "GROUP BY book_id),\n",
    "\n",
    "a1 as (SELECT book_id,\n",
    "                               ROUND(AVG(rating),2) as avg_rating\n",
    "                        FROM ratings\n",
    "                        GROUP BY book_id)\n",
    "                        \n",
    "SELECT b.title,\n",
    "       a.count_reviews, a1.avg_rating\n",
    "           FROM books as b\n",
    "           LEFT JOIN a as a ON b.book_id = a.book_id\n",
    "           LEFT JOIN a1 as a1 ON b.book_id = a1.book_id)\n",
    "           \n",
    "select sum(count_reviews)\n",
    "from a\n",
    "\n",
    "'''\n",
    "con=engine.connect()\n",
    "pd.io.sql.read_sql(sql=text(query), con = con)"
   ]
  },
  {
   "cell_type": "markdown",
   "metadata": {},
   "source": [
    "Таблица содержит информацию о кол-ве отзывов и среднем рейтинге для каждой книги. \n",
    "\n",
    "Таким образом, наивысший рейтинг и имеет произведение с названием \"The Cat in the Hat and Other Dr. Seuss Favorites\", но не имеет отзывов"
   ]
  },
  {
   "cell_type": "markdown",
   "metadata": {},
   "source": [
    "##### Самое крупное издательство, выпустившее книги толще 50 стр"
   ]
  },
  {
   "cell_type": "code",
   "execution_count": 10,
   "metadata": {},
   "outputs": [
    {
     "data": {
      "text/html": [
       "<div>\n",
       "<style scoped>\n",
       "    .dataframe tbody tr th:only-of-type {\n",
       "        vertical-align: middle;\n",
       "    }\n",
       "\n",
       "    .dataframe tbody tr th {\n",
       "        vertical-align: top;\n",
       "    }\n",
       "\n",
       "    .dataframe thead th {\n",
       "        text-align: right;\n",
       "    }\n",
       "</style>\n",
       "<table border=\"1\" class=\"dataframe\">\n",
       "  <thead>\n",
       "    <tr style=\"text-align: right;\">\n",
       "      <th></th>\n",
       "      <th>publisher</th>\n",
       "      <th>count</th>\n",
       "    </tr>\n",
       "  </thead>\n",
       "  <tbody>\n",
       "    <tr>\n",
       "      <th>0</th>\n",
       "      <td>Penguin Books</td>\n",
       "      <td>42</td>\n",
       "    </tr>\n",
       "  </tbody>\n",
       "</table>\n",
       "</div>"
      ],
      "text/plain": [
       "       publisher  count\n",
       "0  Penguin Books     42"
      ]
     },
     "execution_count": 10,
     "metadata": {},
     "output_type": "execute_result"
    }
   ],
   "source": [
    "query = '''\n",
    "\n",
    "SELECT distinct(publisher), count(distinct(b.book_id))\n",
    "        \n",
    "FROM books as b\n",
    "left join ratings as rate on rate.book_id = b.book_id\n",
    "left join publishers as publ on publ.publisher_id = b.publisher_id\n",
    "where b.num_pages > 50\n",
    "group by distinct(publisher)\n",
    "order by(count(distinct(b.book_id))) desc\n",
    "limit 1\n",
    "'''\n",
    "con=engine.connect()\n",
    "pd.io.sql.read_sql(sql=text(query), con = con)"
   ]
  },
  {
   "cell_type": "markdown",
   "metadata": {},
   "source": [
    "Penguin Books является издательством, которое выпустило максимальное кол-во  уникальных книг толще 50 стр - а именно 42 книги"
   ]
  },
  {
   "cell_type": "markdown",
   "metadata": {},
   "source": [
    "##### Автор с самой высокой средней оценкой книг "
   ]
  },
  {
   "cell_type": "code",
   "execution_count": 11,
   "metadata": {},
   "outputs": [
    {
     "data": {
      "text/html": [
       "<div>\n",
       "<style scoped>\n",
       "    .dataframe tbody tr th:only-of-type {\n",
       "        vertical-align: middle;\n",
       "    }\n",
       "\n",
       "    .dataframe tbody tr th {\n",
       "        vertical-align: top;\n",
       "    }\n",
       "\n",
       "    .dataframe thead th {\n",
       "        text-align: right;\n",
       "    }\n",
       "</style>\n",
       "<table border=\"1\" class=\"dataframe\">\n",
       "  <thead>\n",
       "    <tr style=\"text-align: right;\">\n",
       "      <th></th>\n",
       "      <th>author</th>\n",
       "    </tr>\n",
       "  </thead>\n",
       "  <tbody>\n",
       "    <tr>\n",
       "      <th>0</th>\n",
       "      <td>J.K. Rowling/Mary GrandPré</td>\n",
       "    </tr>\n",
       "  </tbody>\n",
       "</table>\n",
       "</div>"
      ],
      "text/plain": [
       "                       author\n",
       "0  J.K. Rowling/Mary GrandPré"
      ]
     },
     "execution_count": 11,
     "metadata": {},
     "output_type": "execute_result"
    }
   ],
   "source": [
    "#будем учитывать только книги с 50 и более оценками\n",
    "query = '''\n",
    "\n",
    "with\n",
    "a1 as (SELECT distinct(a.author), avg(rating) as avg_rating, count(rate.rating_id) as count_reviews\n",
    "        \n",
    "FROM books as b\n",
    "left join ratings as rate on rate.book_id = b.book_id\n",
    "left join authors as a on a.author_id = b.author_id\n",
    "\n",
    "group by distinct(a.author)\n",
    "order by count_reviews desc)\n",
    "\n",
    "select a1.author\n",
    "from a1\n",
    "where count_reviews >=50\n",
    "limit 1\n",
    "'''\n",
    "con=engine.connect()\n",
    "pd.io.sql.read_sql(sql=text(query), con = con)"
   ]
  },
  {
   "cell_type": "markdown",
   "metadata": {},
   "source": [
    "J.K. Rowling/Mary GrandPré определена как автор с самой высокой средней оценкой книг (среди книг с 50 и более оценками)."
   ]
  },
  {
   "cell_type": "markdown",
   "metadata": {},
   "source": [
    "##### Среднее кол-во обзоров от пользователей"
   ]
  },
  {
   "cell_type": "code",
   "execution_count": 12,
   "metadata": {},
   "outputs": [
    {
     "data": {
      "text/html": [
       "<div>\n",
       "<style scoped>\n",
       "    .dataframe tbody tr th:only-of-type {\n",
       "        vertical-align: middle;\n",
       "    }\n",
       "\n",
       "    .dataframe tbody tr th {\n",
       "        vertical-align: top;\n",
       "    }\n",
       "\n",
       "    .dataframe thead th {\n",
       "        text-align: right;\n",
       "    }\n",
       "</style>\n",
       "<table border=\"1\" class=\"dataframe\">\n",
       "  <thead>\n",
       "    <tr style=\"text-align: right;\">\n",
       "      <th></th>\n",
       "      <th>average_reviews</th>\n",
       "    </tr>\n",
       "  </thead>\n",
       "  <tbody>\n",
       "    <tr>\n",
       "      <th>0</th>\n",
       "      <td>24.0</td>\n",
       "    </tr>\n",
       "  </tbody>\n",
       "</table>\n",
       "</div>"
      ],
      "text/plain": [
       "   average_reviews\n",
       "0             24.0"
      ]
     },
     "execution_count": 12,
     "metadata": {},
     "output_type": "execute_result"
    }
   ],
   "source": [
    "#в учет будем брать только тех, кто поставил более 48 оценок\n",
    "query = '''\n",
    "\n",
    "WITH a1 AS (SELECT username,\n",
    "                                        COUNT(rating_id) AS ratings_count\n",
    "                                 FROM ratings\n",
    "                                 GROUP BY username\n",
    "                                 HAVING COUNT(rating_id) > 48),\n",
    "           a2 AS (SELECT username,\n",
    "                                   COUNT(review_id) AS reviews_count\n",
    "                            FROM reviews\n",
    "                            WHERE username IN (SELECT username FROM a1)\n",
    "                            GROUP BY username)\n",
    "SELECT ROUND(AVG(reviews_count),2) AS average_reviews\n",
    "FROM a2\n",
    "'''\n",
    "con=engine.connect()\n",
    "pd.io.sql.read_sql(sql=text(query), con = con)"
   ]
  },
  {
   "cell_type": "markdown",
   "metadata": {},
   "source": [
    "Получается, что среднее кол-во обзоров от пользователей, кто оставил более 48 оценок, равняется 24."
   ]
  },
  {
   "cell_type": "markdown",
   "metadata": {},
   "source": [
    "**Полученный вывод:**\n",
    "\n",
    "После 1.01.2000 выпущено 819 книг, наивысший рейтинг и имеет произведение с названием \"The Cat in the Hat and Other Dr. Seuss Favorites\", но не имеет отзывов. Penguin Books является издательством, которое выпустило максимальное кол-во уникальных книг толще 50 стр - а именно 42 книги. J.K. Rowling/Mary GrandPré определена как автор с самой высокой средней оценкой книг (среди книг с 50 и более оценками). Среднее кол-во обзоров от пользователей, кто оставил более 48 оценок, равняется 24.\n",
    "    "
   ]
  }
 ],
 "metadata": {
  "ExecuteTimeLog": [
   {
    "duration": 7939,
    "start_time": "2024-08-15T06:06:54.906Z"
   },
   {
    "duration": 229,
    "start_time": "2024-08-15T06:07:41.911Z"
   },
   {
    "duration": 238,
    "start_time": "2024-08-15T06:07:49.271Z"
   },
   {
    "duration": 5410,
    "start_time": "2024-08-17T07:55:56.844Z"
   },
   {
    "duration": 40,
    "start_time": "2024-08-17T07:56:22.441Z"
   },
   {
    "duration": 3,
    "start_time": "2024-08-17T07:56:33.631Z"
   },
   {
    "duration": 40,
    "start_time": "2024-08-17T07:56:37.203Z"
   },
   {
    "duration": 2,
    "start_time": "2024-08-17T07:56:40.099Z"
   },
   {
    "duration": 68,
    "start_time": "2024-08-17T07:56:45.253Z"
   },
   {
    "duration": 5344,
    "start_time": "2024-08-17T07:56:55.076Z"
   },
   {
    "duration": 65,
    "start_time": "2024-08-17T07:57:00.422Z"
   },
   {
    "duration": 23,
    "start_time": "2024-08-17T07:57:09.195Z"
   },
   {
    "duration": 15,
    "start_time": "2024-08-17T07:58:04.279Z"
   },
   {
    "duration": 42,
    "start_time": "2024-08-17T07:58:11.453Z"
   },
   {
    "duration": 29,
    "start_time": "2024-08-17T07:58:12.036Z"
   },
   {
    "duration": 10,
    "start_time": "2024-08-17T07:58:13.960Z"
   },
   {
    "duration": 11,
    "start_time": "2024-08-17T07:58:14.541Z"
   },
   {
    "duration": 11,
    "start_time": "2024-08-17T07:58:18.028Z"
   },
   {
    "duration": 11,
    "start_time": "2024-08-17T08:03:59.193Z"
   },
   {
    "duration": 80,
    "start_time": "2024-08-17T08:09:57.762Z"
   },
   {
    "duration": 14,
    "start_time": "2024-08-17T08:10:03.630Z"
   },
   {
    "duration": 45,
    "start_time": "2024-08-17T08:11:01.167Z"
   },
   {
    "duration": 13,
    "start_time": "2024-08-17T08:11:36.570Z"
   },
   {
    "duration": 20,
    "start_time": "2024-08-17T08:12:58.624Z"
   },
   {
    "duration": 26,
    "start_time": "2024-08-17T08:13:01.924Z"
   },
   {
    "duration": 80,
    "start_time": "2024-08-17T08:13:24.148Z"
   },
   {
    "duration": 48,
    "start_time": "2024-08-17T08:13:35.642Z"
   },
   {
    "duration": 37,
    "start_time": "2024-08-17T08:13:49.522Z"
   },
   {
    "duration": 10,
    "start_time": "2024-08-17T08:14:20.018Z"
   },
   {
    "duration": 10,
    "start_time": "2024-08-17T08:16:39.036Z"
   },
   {
    "duration": 13,
    "start_time": "2024-08-17T08:17:02.621Z"
   },
   {
    "duration": 10,
    "start_time": "2024-08-17T08:17:11.681Z"
   },
   {
    "duration": 8,
    "start_time": "2024-08-17T08:17:22.631Z"
   },
   {
    "duration": 9,
    "start_time": "2024-08-17T08:17:32.329Z"
   },
   {
    "duration": 10,
    "start_time": "2024-08-17T08:18:34.283Z"
   },
   {
    "duration": 9,
    "start_time": "2024-08-17T08:20:31.382Z"
   },
   {
    "duration": 9,
    "start_time": "2024-08-17T08:20:56.937Z"
   },
   {
    "duration": 18,
    "start_time": "2024-08-17T08:21:14.649Z"
   },
   {
    "duration": 50,
    "start_time": "2024-08-17T08:26:33.882Z"
   },
   {
    "duration": 213,
    "start_time": "2024-08-17T08:27:34.623Z"
   },
   {
    "duration": 19,
    "start_time": "2024-08-17T08:30:40.383Z"
   },
   {
    "duration": 74,
    "start_time": "2024-08-17T08:31:10.661Z"
   },
   {
    "duration": 19,
    "start_time": "2024-08-17T08:31:20.650Z"
   },
   {
    "duration": 19,
    "start_time": "2024-08-17T08:32:21.592Z"
   },
   {
    "duration": 19,
    "start_time": "2024-08-17T08:32:35.224Z"
   },
   {
    "duration": 19,
    "start_time": "2024-08-17T08:33:09.243Z"
   },
   {
    "duration": 19,
    "start_time": "2024-08-17T08:33:17.377Z"
   },
   {
    "duration": 19,
    "start_time": "2024-08-17T08:33:20.762Z"
   },
   {
    "duration": 45,
    "start_time": "2024-08-17T08:33:51.247Z"
   },
   {
    "duration": 19,
    "start_time": "2024-08-17T08:33:53.775Z"
   },
   {
    "duration": 19,
    "start_time": "2024-08-17T08:34:20.181Z"
   },
   {
    "duration": 20,
    "start_time": "2024-08-17T08:34:34.021Z"
   },
   {
    "duration": 23,
    "start_time": "2024-08-17T08:35:02.321Z"
   },
   {
    "duration": 24,
    "start_time": "2024-08-17T08:35:09.581Z"
   },
   {
    "duration": 27,
    "start_time": "2024-08-17T08:36:00.849Z"
   },
   {
    "duration": 18,
    "start_time": "2024-08-17T08:36:12.711Z"
   },
   {
    "duration": 25,
    "start_time": "2024-08-17T08:36:28.611Z"
   },
   {
    "duration": 26,
    "start_time": "2024-08-17T08:37:30.766Z"
   },
   {
    "duration": 28,
    "start_time": "2024-08-17T08:38:03.498Z"
   },
   {
    "duration": 53,
    "start_time": "2024-08-17T08:41:12.083Z"
   },
   {
    "duration": 53,
    "start_time": "2024-08-17T08:42:09.430Z"
   },
   {
    "duration": 15,
    "start_time": "2024-08-17T08:42:19.724Z"
   },
   {
    "duration": 19,
    "start_time": "2024-08-17T08:43:21.893Z"
   },
   {
    "duration": 18,
    "start_time": "2024-08-17T08:43:56.530Z"
   },
   {
    "duration": 19,
    "start_time": "2024-08-17T08:44:09.539Z"
   },
   {
    "duration": 19,
    "start_time": "2024-08-17T08:45:42.494Z"
   },
   {
    "duration": 20,
    "start_time": "2024-08-17T08:46:05.379Z"
   },
   {
    "duration": 18,
    "start_time": "2024-08-17T08:46:17.483Z"
   },
   {
    "duration": 20,
    "start_time": "2024-08-17T08:46:30.249Z"
   },
   {
    "duration": 15,
    "start_time": "2024-08-17T08:46:36.699Z"
   },
   {
    "duration": 14,
    "start_time": "2024-08-17T08:46:43.086Z"
   },
   {
    "duration": 20,
    "start_time": "2024-08-17T08:46:50.448Z"
   },
   {
    "duration": 12,
    "start_time": "2024-08-17T08:46:56.740Z"
   },
   {
    "duration": 13,
    "start_time": "2024-08-17T08:48:59.781Z"
   },
   {
    "duration": 17,
    "start_time": "2024-08-17T08:53:41.006Z"
   },
   {
    "duration": 28,
    "start_time": "2024-08-17T08:54:52.550Z"
   },
   {
    "duration": 20,
    "start_time": "2024-08-17T08:55:44.668Z"
   },
   {
    "duration": 17,
    "start_time": "2024-08-17T08:56:08.833Z"
   },
   {
    "duration": 53,
    "start_time": "2024-08-17T08:56:23.123Z"
   },
   {
    "duration": 16,
    "start_time": "2024-08-17T08:56:55.126Z"
   },
   {
    "duration": 20,
    "start_time": "2024-08-17T08:57:02.178Z"
   },
   {
    "duration": 13,
    "start_time": "2024-08-17T08:57:05.190Z"
   },
   {
    "duration": 40,
    "start_time": "2024-08-17T08:58:07.535Z"
   },
   {
    "duration": 14,
    "start_time": "2024-08-17T08:58:12.038Z"
   },
   {
    "duration": 14,
    "start_time": "2024-08-17T08:58:17.519Z"
   },
   {
    "duration": 14,
    "start_time": "2024-08-17T08:58:33.719Z"
   },
   {
    "duration": 15,
    "start_time": "2024-08-17T08:58:59.804Z"
   },
   {
    "duration": 16,
    "start_time": "2024-08-17T08:59:08.668Z"
   },
   {
    "duration": 18,
    "start_time": "2024-08-17T08:59:25.000Z"
   },
   {
    "duration": 15,
    "start_time": "2024-08-17T08:59:32.442Z"
   },
   {
    "duration": 15,
    "start_time": "2024-08-17T08:59:34.721Z"
   },
   {
    "duration": 16,
    "start_time": "2024-08-17T08:59:42.077Z"
   },
   {
    "duration": 16,
    "start_time": "2024-08-17T09:02:10.216Z"
   },
   {
    "duration": 5179,
    "start_time": "2024-08-17T09:04:32.270Z"
   },
   {
    "duration": 33,
    "start_time": "2024-08-17T09:04:37.451Z"
   },
   {
    "duration": 10,
    "start_time": "2024-08-17T09:04:37.485Z"
   },
   {
    "duration": 15,
    "start_time": "2024-08-17T09:04:37.496Z"
   },
   {
    "duration": 12,
    "start_time": "2024-08-17T09:04:37.513Z"
   },
   {
    "duration": 9,
    "start_time": "2024-08-17T09:04:37.526Z"
   },
   {
    "duration": 28,
    "start_time": "2024-08-17T09:04:37.536Z"
   },
   {
    "duration": 16,
    "start_time": "2024-08-17T09:04:37.566Z"
   },
   {
    "duration": 12,
    "start_time": "2024-08-17T09:04:37.583Z"
   },
   {
    "duration": 11,
    "start_time": "2024-08-17T09:04:37.596Z"
   },
   {
    "duration": 79,
    "start_time": "2024-08-17T09:07:10.663Z"
   },
   {
    "duration": 231,
    "start_time": "2024-08-17T09:07:43.587Z"
   },
   {
    "duration": 64,
    "start_time": "2024-08-17T09:08:00.175Z"
   },
   {
    "duration": 19,
    "start_time": "2024-08-17T09:08:39.565Z"
   },
   {
    "duration": 35,
    "start_time": "2024-08-17T09:08:47.610Z"
   },
   {
    "duration": 59,
    "start_time": "2024-08-17T09:09:05.099Z"
   },
   {
    "duration": 19,
    "start_time": "2024-08-17T09:09:50.777Z"
   },
   {
    "duration": 19,
    "start_time": "2024-08-17T09:10:01.279Z"
   },
   {
    "duration": 46,
    "start_time": "2024-08-17T09:10:05.348Z"
   },
   {
    "duration": 87,
    "start_time": "2024-08-17T09:10:14.121Z"
   },
   {
    "duration": 53,
    "start_time": "2024-08-17T09:11:03.180Z"
   },
   {
    "duration": 37,
    "start_time": "2024-08-17T09:11:09.409Z"
   },
   {
    "duration": 37,
    "start_time": "2024-08-17T09:12:36.998Z"
   },
   {
    "duration": 37,
    "start_time": "2024-08-17T09:12:55.808Z"
   },
   {
    "duration": 38,
    "start_time": "2024-08-17T09:13:09.701Z"
   },
   {
    "duration": 37,
    "start_time": "2024-08-17T09:13:15.005Z"
   },
   {
    "duration": 37,
    "start_time": "2024-08-17T09:13:23.600Z"
   },
   {
    "duration": 37,
    "start_time": "2024-08-17T09:13:27.698Z"
   },
   {
    "duration": 36,
    "start_time": "2024-08-17T09:13:31.483Z"
   },
   {
    "duration": 20,
    "start_time": "2024-08-17T09:15:44.935Z"
   },
   {
    "duration": 19,
    "start_time": "2024-08-17T09:16:22.599Z"
   },
   {
    "duration": 40,
    "start_time": "2024-08-17T09:16:45.265Z"
   },
   {
    "duration": 138,
    "start_time": "2024-08-17T09:17:32.075Z"
   },
   {
    "duration": 39,
    "start_time": "2024-08-17T09:17:48.502Z"
   },
   {
    "duration": 20,
    "start_time": "2024-08-17T09:18:18.783Z"
   },
   {
    "duration": 37,
    "start_time": "2024-08-17T09:18:55.163Z"
   },
   {
    "duration": 45,
    "start_time": "2024-08-17T09:24:05.274Z"
   },
   {
    "duration": 37,
    "start_time": "2024-08-17T09:24:29.870Z"
   },
   {
    "duration": 48,
    "start_time": "2024-08-17T09:30:57.734Z"
   },
   {
    "duration": 37,
    "start_time": "2024-08-17T09:31:18.047Z"
   },
   {
    "duration": 51,
    "start_time": "2024-08-17T09:33:56.485Z"
   },
   {
    "duration": 19,
    "start_time": "2024-08-17T09:33:59.230Z"
   },
   {
    "duration": 18,
    "start_time": "2024-08-17T09:34:20.046Z"
   },
   {
    "duration": 18,
    "start_time": "2024-08-17T09:34:30.683Z"
   },
   {
    "duration": 33,
    "start_time": "2024-08-17T09:34:56.439Z"
   },
   {
    "duration": 49,
    "start_time": "2024-08-17T09:35:59.833Z"
   },
   {
    "duration": 12,
    "start_time": "2024-08-17T09:37:31.472Z"
   },
   {
    "duration": 13,
    "start_time": "2024-08-17T09:37:42.390Z"
   },
   {
    "duration": 13,
    "start_time": "2024-08-17T09:38:04.652Z"
   },
   {
    "duration": 13,
    "start_time": "2024-08-17T09:38:14.301Z"
   },
   {
    "duration": 5372,
    "start_time": "2024-08-17T09:44:16.376Z"
   },
   {
    "duration": 21,
    "start_time": "2024-08-17T09:44:21.749Z"
   },
   {
    "duration": 9,
    "start_time": "2024-08-17T09:44:21.771Z"
   },
   {
    "duration": 9,
    "start_time": "2024-08-17T09:44:21.782Z"
   },
   {
    "duration": 10,
    "start_time": "2024-08-17T09:44:21.792Z"
   },
   {
    "duration": 8,
    "start_time": "2024-08-17T09:44:21.803Z"
   },
   {
    "duration": 28,
    "start_time": "2024-08-17T09:44:21.812Z"
   },
   {
    "duration": 16,
    "start_time": "2024-08-17T09:44:21.841Z"
   },
   {
    "duration": 13,
    "start_time": "2024-08-17T09:44:21.858Z"
   },
   {
    "duration": 23,
    "start_time": "2024-08-17T09:44:21.873Z"
   },
   {
    "duration": 8563,
    "start_time": "2024-08-18T09:45:16.276Z"
   },
   {
    "duration": 126,
    "start_time": "2024-08-18T09:45:24.841Z"
   },
   {
    "duration": 52,
    "start_time": "2024-08-18T09:45:24.969Z"
   },
   {
    "duration": 69,
    "start_time": "2024-08-18T09:45:25.022Z"
   },
   {
    "duration": 55,
    "start_time": "2024-08-18T09:45:25.094Z"
   },
   {
    "duration": 53,
    "start_time": "2024-08-18T09:45:25.151Z"
   },
   {
    "duration": 89,
    "start_time": "2024-08-18T09:45:25.206Z"
   },
   {
    "duration": 60,
    "start_time": "2024-08-18T09:45:25.297Z"
   },
   {
    "duration": 55,
    "start_time": "2024-08-18T09:45:25.359Z"
   },
   {
    "duration": 55,
    "start_time": "2024-08-18T09:45:25.415Z"
   },
   {
    "duration": 63,
    "start_time": "2024-08-18T09:52:42.967Z"
   },
   {
    "duration": 64,
    "start_time": "2024-08-18T09:52:58.220Z"
   },
   {
    "duration": 61,
    "start_time": "2024-08-18T09:53:01.783Z"
   },
   {
    "duration": 52,
    "start_time": "2024-08-18T09:54:41.693Z"
   },
   {
    "duration": 61,
    "start_time": "2024-08-18T09:54:46.359Z"
   },
   {
    "duration": 52,
    "start_time": "2024-08-18T09:56:20.928Z"
   },
   {
    "duration": 95,
    "start_time": "2024-08-18T10:00:16.418Z"
   },
   {
    "duration": 91,
    "start_time": "2024-08-18T10:02:25.590Z"
   },
   {
    "duration": 64,
    "start_time": "2024-08-18T10:02:44.793Z"
   },
   {
    "duration": 59,
    "start_time": "2024-08-18T10:04:14.049Z"
   },
   {
    "duration": 54,
    "start_time": "2024-08-18T10:05:55.833Z"
   },
   {
    "duration": 86,
    "start_time": "2024-08-18T10:23:30.139Z"
   },
   {
    "duration": 54,
    "start_time": "2024-08-18T10:23:57.454Z"
   },
   {
    "duration": 89,
    "start_time": "2024-08-18T10:24:07.293Z"
   },
   {
    "duration": 8097,
    "start_time": "2024-08-18T10:25:44.124Z"
   },
   {
    "duration": 130,
    "start_time": "2024-08-18T10:25:52.223Z"
   },
   {
    "duration": 53,
    "start_time": "2024-08-18T10:25:52.354Z"
   },
   {
    "duration": 54,
    "start_time": "2024-08-18T10:25:52.408Z"
   },
   {
    "duration": 53,
    "start_time": "2024-08-18T10:25:52.464Z"
   },
   {
    "duration": 51,
    "start_time": "2024-08-18T10:25:52.519Z"
   },
   {
    "duration": 85,
    "start_time": "2024-08-18T10:25:52.572Z"
   },
   {
    "duration": 53,
    "start_time": "2024-08-18T10:25:52.659Z"
   },
   {
    "duration": 54,
    "start_time": "2024-08-18T10:25:52.713Z"
   },
   {
    "duration": 61,
    "start_time": "2024-08-18T10:25:52.769Z"
   },
   {
    "duration": 56,
    "start_time": "2024-08-18T10:25:52.832Z"
   },
   {
    "duration": 80,
    "start_time": "2024-08-18T10:25:52.889Z"
   }
  ],
  "kernelspec": {
   "display_name": "Python 3 (ipykernel)",
   "language": "python",
   "name": "python3"
  },
  "language_info": {
   "codemirror_mode": {
    "name": "ipython",
    "version": 3
   },
   "file_extension": ".py",
   "mimetype": "text/x-python",
   "name": "python",
   "nbconvert_exporter": "python",
   "pygments_lexer": "ipython3",
   "version": "3.9.5"
  },
  "toc": {
   "base_numbering": 1,
   "nav_menu": {},
   "number_sections": true,
   "sideBar": true,
   "skip_h1_title": true,
   "title_cell": "Table of Contents",
   "title_sidebar": "Contents",
   "toc_cell": false,
   "toc_position": {},
   "toc_section_display": true,
   "toc_window_display": true
  }
 },
 "nbformat": 4,
 "nbformat_minor": 2
}
